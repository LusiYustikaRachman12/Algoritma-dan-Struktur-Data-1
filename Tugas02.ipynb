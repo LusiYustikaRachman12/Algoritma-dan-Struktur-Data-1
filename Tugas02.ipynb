{
 "cells": [
  {
   "cell_type": "code",
   "execution_count": 1,
   "metadata": {},
   "outputs": [
    {
     "name": "stdout",
     "output_type": "stream",
     "text": [
      "saya suka programing\n",
      "saya suka programing\n",
      "saya suka programing\n",
      "saya suka programing\n",
      "saya suka programing\n"
     ]
    }
   ],
   "source": [
    "#Nama lusi yustika rachman\n",
    "print(\"saya suka programing\")\n",
    "print(\"saya suka programing\")\n",
    "print(\"saya suka programing\")\n",
    "print(\"saya suka programing\")\n",
    "print(\"saya suka programing\")\n"
   ]
  },
  {
   "cell_type": "code",
   "execution_count": 2,
   "metadata": {},
   "outputs": [
    {
     "name": "stdout",
     "output_type": "stream",
     "text": [
      "615.44\n"
     ]
    }
   ],
   "source": [
    "#nama lsui yustika r\n",
    "#menghitung luas lingkaran,bila diketahui jari-jari 14\n",
    "r=14\n",
    "l=3.14*r*r\n",
    "print(l)"
   ]
  },
  {
   "cell_type": "code",
   "execution_count": 3,
   "metadata": {},
   "outputs": [
    {
     "name": "stdout",
     "output_type": "stream",
     "text": [
      "saya ami, saya membuat program menghitung balok\n",
      "panjang=5\n",
      "lebar=7\n",
      "tinggi=10\n",
      "sehingga volume balok=350\n"
     ]
    }
   ],
   "source": [
    "#nama lusi yustika r\n",
    "print(\"saya ami, saya membuat program menghitung balok\")\n",
    "print(\"panjang=5\")\n",
    "print(\"lebar=7\")\n",
    "print(\"tinggi=10\")\n",
    "print(\"sehingga volume balok=350\")    "
   ]
  },
  {
   "cell_type": "code",
   "execution_count": null,
   "metadata": {},
   "outputs": [],
   "source": []
  }
 ],
 "metadata": {
  "kernelspec": {
   "display_name": "Python 3",
   "language": "python",
   "name": "python3"
  },
  "language_info": {
   "codemirror_mode": {
    "name": "ipython",
    "version": 3
   },
   "file_extension": ".py",
   "mimetype": "text/x-python",
   "name": "python",
   "nbconvert_exporter": "python",
   "pygments_lexer": "ipython3",
   "version": "3.8.3"
  }
 },
 "nbformat": 4,
 "nbformat_minor": 4
}
