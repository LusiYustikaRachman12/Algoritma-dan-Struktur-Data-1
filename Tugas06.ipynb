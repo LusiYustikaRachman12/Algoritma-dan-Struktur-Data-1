{
 "cells": [
  {
   "cell_type": "code",
   "execution_count": 3,
   "metadata": {},
   "outputs": [
    {
     "name": "stdout",
     "output_type": "stream",
     "text": [
      "Masukan Nilai = 50\n",
      "Harus ikut remidi\n"
     ]
    }
   ],
   "source": [
    "#Lusi Yustika Rachman\n",
    "#Percabangan if\n",
    "\n",
    "nilai = int (input(\"Masukan Nilai = \"))\n",
    "\n",
    "if nilai <= 70:\n",
    "    print (\"Harus ikut remidi\")"
   ]
  },
  {
   "cell_type": "code",
   "execution_count": 4,
   "metadata": {},
   "outputs": [
    {
     "name": "stdout",
     "output_type": "stream",
     "text": [
      "Masukan Nilai = 75\n"
     ]
    }
   ],
   "source": [
    "#Lusi Yustika Rachman\n",
    "#Percabangan if\n",
    "\n",
    "nilai = int (input(\"Masukan Nilai = \"))\n",
    "\n",
    "if nilai <= 70:\n",
    "    print (\"Harus ikut remidi\")"
   ]
  },
  {
   "cell_type": "code",
   "execution_count": 5,
   "metadata": {},
   "outputs": [
    {
     "name": "stdout",
     "output_type": "stream",
     "text": [
      "Masukkan r = 17\n",
      "Luas Lingkaran adalah =  907.46\n",
      "Lingkaran Ini Besar\n"
     ]
    }
   ],
   "source": [
    "#Lusi Yustika Rachman\n",
    "#Percabangan if else\n",
    "\n",
    "r = int (input(\"Masukkan r = \"))\n",
    "l = 3.14 *r*r\n",
    "\n",
    "print (\"Luas Lingkaran adalah = \", l)\n",
    "\n",
    "if l >314 :\n",
    "    print (\"Lingkaran Ini Besar\")\n",
    "    \n",
    "else :\n",
    "    print (\"Lingkaran Ini Kecil\")"
   ]
  },
  {
   "cell_type": "code",
   "execution_count": 6,
   "metadata": {},
   "outputs": [
    {
     "name": "stdout",
     "output_type": "stream",
     "text": [
      "Masukkan r = 7\n",
      "Luas Lingkaran adalah =  153.86\n",
      "Lingkaran Ini Kecil\n"
     ]
    }
   ],
   "source": [
    "#Lusi Yustika Rachman\n",
    "#Percabangan if else\n",
    "\n",
    "r = int (input(\"Masukkan r = \"))\n",
    "l = 3.14 *r*r\n",
    "\n",
    "print (\"Luas Lingkaran adalah = \", l)\n",
    "\n",
    "if l >314 :\n",
    "    print (\"Lingkaran Ini Besar\")\n",
    "    \n",
    "else :\n",
    "    print (\"Lingkaran Ini Kecil\")"
   ]
  },
  {
   "cell_type": "code",
   "execution_count": 7,
   "metadata": {},
   "outputs": [
    {
     "name": "stdout",
     "output_type": "stream",
     "text": [
      "[1/2] : 1\n",
      "Masukkan p = 12\n",
      "Masukkan l = 7\n",
      "Masukkan t = 2\n",
      "Volume Balok adalah  168\n"
     ]
    }
   ],
   "source": [
    "#Lusi Yustika Rachman\n",
    "\n",
    "def volume_balok ():\n",
    "    p = int (input(\"Masukkan p = \"))\n",
    "    l = int (input(\"Masukkan l = \"))\n",
    "    t = int (input(\"Masukkan t = \"))\n",
    "    v_balok = p*l*t\n",
    "    return v_balok\n",
    "def volume_kubus():\n",
    "    s = int (input(\"Masukan s = \"))\n",
    "    v_kubus = s*s*s\n",
    "    return v_kubus\n",
    "    \n",
    "pilihan = int(input(\"[1/2] : \"))\n",
    "if pilihan == 1:\n",
    "    print (\"Volume Balok adalah \", volume_balok())\n",
    "    \n",
    "elif pilihan == 2:\n",
    "    print (\"Volume Kubus adalah \", volume_kubus())\n",
    "else :\n",
    "    print (\"Tidak ada Program\")"
   ]
  },
  {
   "cell_type": "code",
   "execution_count": null,
   "metadata": {},
   "outputs": [],
   "source": []
  }
 ],
 "metadata": {
  "kernelspec": {
   "display_name": "Python 3",
   "language": "python",
   "name": "python3"
  },
  "language_info": {
   "codemirror_mode": {
    "name": "ipython",
    "version": 3
   },
   "file_extension": ".py",
   "mimetype": "text/x-python",
   "name": "python",
   "nbconvert_exporter": "python",
   "pygments_lexer": "ipython3",
   "version": "3.8.3"
  }
 },
 "nbformat": 4,
 "nbformat_minor": 4
}
