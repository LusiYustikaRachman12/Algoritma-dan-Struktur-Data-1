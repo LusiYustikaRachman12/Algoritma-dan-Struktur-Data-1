{
 "cells": [
  {
   "cell_type": "code",
   "execution_count": 1,
   "metadata": {},
   "outputs": [
    {
     "name": "stdout",
     "output_type": "stream",
     "text": [
      "Hasil 8 + 6 = 14\n",
      "Hasil 8 - 6 = 2\n",
      "Hasil 8 * 6 = 48\n",
      "Hasil 8 / 6 = 1.3333333333333333\n",
      "Hasil 8 % 6 = 2\n",
      "hasil 8 ** 6 = 262144\n"
     ]
    }
   ],
   "source": [
    "#Lusi Yustika Rachman\n",
    "#Operator Aritmatika\n",
    "\n",
    "a = 8\n",
    "b = 6\n",
    "\n",
    "#Operator penjumlahan\n",
    "c = a+b\n",
    "print (\"Hasil\", a ,\"+\", b, \"=\", c)\n",
    "\n",
    "#Operator pengurangan\n",
    "d = a-b\n",
    "print (\"Hasil\", a, \"-\", b, \"=\", d)\n",
    "\n",
    "#Operator perkalian\n",
    "e = a*b\n",
    "print (\"Hasil\", a, \"*\", b, \"=\", e)\n",
    "\n",
    "#Operator pembagian\n",
    "f = a/b\n",
    "print (\"Hasil\", a, \"/\", b, \"=\", f)\n",
    "\n",
    "#Operator sisa bagi\n",
    "g = a%b\n",
    "print (\"Hasil\", a, \"%\", b, \"=\",g)\n",
    "\n",
    "#Operator pemangkatan\n",
    "h = a**b\n",
    "print (\"hasil\", a, \"**\", b, \"=\",h)\n",
    "\n"
   ]
  },
  {
   "cell_type": "code",
   "execution_count": 6,
   "metadata": {},
   "outputs": [
    {
     "name": "stdout",
     "output_type": "stream",
     "text": [
      "Nilai yang diisi adalah =  8\n",
      "Nilai setelah ditambah 4 adalah =  12\n",
      "Nilai setelah dikurangi 4 adalah =  8\n",
      "Nilai setelah dikali 6 adalah =  48\n",
      "Nilai setelah dibagi 4 adalah =  12.0\n",
      "Nilai setelah sisa bagi 5 adalah =  2.0\n",
      "Nilai setelah dipangkatkan 4 adalah =  16.0\n"
     ]
    }
   ],
   "source": [
    "#Lusi Yustika Rachman\n",
    "#Operator Penugasan\n",
    "\n",
    "#Mengisi nilai\n",
    "a = 8\n",
    "print (\"Nilai yang diisi adalah = \",a)\n",
    "\n",
    "#penjumlahan\n",
    "a += 4\n",
    "print (\"Nilai setelah ditambah 4 adalah = \",a)\n",
    "\n",
    "#pengurangan\n",
    "a -= 4\n",
    "print (\"Nilai setelah dikurangi 4 adalah = \", a)\n",
    "\n",
    "#perkalian\n",
    "a *= 6\n",
    "print (\"Nilai setelah dikali 6 adalah = \",a)\n",
    "\n",
    "#pembagian\n",
    "a /= 4\n",
    "print (\"Nilai setelah dibagi 4 adalah = \",a)\n",
    "\n",
    "#sisa bagi\n",
    "a %= 5\n",
    "print (\"Nilai setelah sisa bagi 5 adalah = \",a)\n",
    "\n",
    "#pemangkatan\n",
    "a **= 4\n",
    "print (\"Nilai setelah dipangkatkan 4 adalah = \",a)\n"
   ]
  },
  {
   "cell_type": "code",
   "execution_count": 8,
   "metadata": {},
   "outputs": [
    {
     "name": "stdout",
     "output_type": "stream",
     "text": [
      "Apakah a > b ? True\n",
      "Apakah a < b ? False\n",
      "Apakah a == b ? False\n",
      "Apakah a != b ? True\n",
      "Apakah a >= b ? True\n",
      "Apakah a <= b ? False\n"
     ]
    }
   ],
   "source": [
    "#Lusi Yustika Rachman\n",
    "#Operator Pembanding\n",
    "\n",
    "#masukan nilai yang akan dibandingkan\n",
    "a = 14\n",
    "b = 7\n",
    "\n",
    "#lebih besar\n",
    "c = a > b\n",
    "print (\"Apakah a > b ?\", c)\n",
    "\n",
    "#lebih kecil\n",
    "d = a < b\n",
    "print (\"Apakah a < b ?\", d)\n",
    "\n",
    "#sama dengan\n",
    "e = a == b\n",
    "print (\"Apakah a == b ?\", e)\n",
    "\n",
    "#tidak sama dengan\n",
    "f = a != b\n",
    "print (\"Apakah a != b ?\", f)\n",
    "\n",
    "#lebih besar sama dengan\n",
    "g = a >= b\n",
    "print (\"Apakah a >= b ?\", g)\n",
    "\n",
    "#lebih kecil sama dengan\n",
    "h = a <= b\n",
    "print (\"Apakah a <= b ?\", h)\n"
   ]
  },
  {
   "cell_type": "code",
   "execution_count": 9,
   "metadata": {},
   "outputs": [
    {
     "name": "stdout",
     "output_type": "stream",
     "text": [
      "Logika AND adalah Jika keduanya True, maka ? True\n",
      "Logika AND adalah jika salah satunya False, maka ? False\n",
      "Logika AND adalah jika keduanya False, maka ?  False\n",
      "Logika OR adalah Jika keduanya True, maka ? True\n",
      "Logika OR adalah jika salah satunya True, maka ? True\n",
      "Logika OR adalah jika keduanya False, maka ? False\n",
      "Logika NOT adalah jika True, maka ? False\n",
      "Logika NOT adalah jika False, maka ? True\n"
     ]
    }
   ],
   "source": [
    "#Lusi Yustika Rachman\n",
    "#Operator Logika\n",
    "\n",
    "a = True\n",
    "b = False\n",
    "\n",
    "#Logika AND\n",
    "and1 = a and a\n",
    "print (\"Logika AND adalah Jika keduanya True, maka ?\", and1)\n",
    "\n",
    "and2 = a and b\n",
    "print (\"Logika AND adalah jika salah satunya False, maka ?\", and2)\n",
    "\n",
    "and3 = b and b\n",
    "print (\"Logika AND adalah jika keduanya False, maka ? \", and3)\n",
    "\n",
    "#Logika OR\n",
    "or1 = a or a\n",
    "print (\"Logika OR adalah Jika keduanya True, maka ?\", or1)\n",
    "\n",
    "or2 = a or b\n",
    "print (\"Logika OR adalah jika salah satunya True, maka ?\", or2)\n",
    "\n",
    "or3 = b or b\n",
    "print (\"Logika OR adalah jika keduanya False, maka ?\", or3)\n",
    "\n",
    "#Logika NOT\n",
    "not1 = not a\n",
    "print (\"Logika NOT adalah jika True, maka ?\", not1)\n",
    "\n",
    "not2 = not b\n",
    "print (\"Logika NOT adalah jika False, maka ?\", not2)\n"
   ]
  },
  {
   "cell_type": "code",
   "execution_count": 10,
   "metadata": {},
   "outputs": [
    {
     "name": "stdout",
     "output_type": "stream",
     "text": [
      "Masukan nama bayi :Lusi Yustika\n",
      "Masukan berat badan bayi (KG)2.4\n",
      "Berat badannya  24.0 ONS\n",
      "Hallo Lusi Yustika Berat badanmu 2.4 Dalam ons 24.0 ONS Dalam 1 bulan kedepan berat mu 54.0 ONS\n"
     ]
    }
   ],
   "source": [
    "#Lusi Yustika Rachman\n",
    "#Input Output\n",
    "\n",
    "#Input\n",
    "nama_bayi = (input(\"Masukan nama bayi :\"))\n",
    "berat = float (input (\"Masukan berat badan bayi (KG)\"))\n",
    "\n",
    "#Proses\n",
    "ons = berat * 10\n",
    "ons_1bulan = ons + 30\n",
    "\n",
    "#Output\n",
    "print (\"Berat badannya \", ons, \"ONS\")\n",
    "print (\"Hallo\", nama_bayi, \"Berat badanmu\", berat, \"Dalam ons\", ons, \"ONS\", \"Dalam 1 bulan kedepan berat mu\", ons_1bulan, \"ONS\")"
   ]
  },
  {
   "cell_type": "code",
   "execution_count": null,
   "metadata": {},
   "outputs": [],
   "source": []
  }
 ],
 "metadata": {
  "kernelspec": {
   "display_name": "Python 3",
   "language": "python",
   "name": "python3"
  },
  "language_info": {
   "codemirror_mode": {
    "name": "ipython",
    "version": 3
   },
   "file_extension": ".py",
   "mimetype": "text/x-python",
   "name": "python",
   "nbconvert_exporter": "python",
   "pygments_lexer": "ipython3",
   "version": "3.8.3"
  }
 },
 "nbformat": 4,
 "nbformat_minor": 4
}
