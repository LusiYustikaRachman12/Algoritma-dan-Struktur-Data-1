{
 "cells": [
  {
   "cell_type": "code",
   "execution_count": 1,
   "metadata": {},
   "outputs": [
    {
     "name": "stdout",
     "output_type": "stream",
     "text": [
      "I like programming\n",
      "Because I Proud to make something new\n"
     ]
    }
   ],
   "source": [
    "#Lusi Yustika Rachman\n",
    "#Membuat Fungsi 1\n",
    "\n",
    "def a ():\n",
    "    print (\"Because I Proud to make something new\")\n",
    "    \n",
    "#Membuat Fungsi 1\n",
    "def b () :\n",
    "        print(\"I like programming\")\n",
    "#Pemanggilan Fungsi       \n",
    "b()\n",
    "a()"
   ]
  },
  {
   "cell_type": "code",
   "execution_count": 2,
   "metadata": {},
   "outputs": [
    {
     "name": "stdout",
     "output_type": "stream",
     "text": [
      "Masukan Nama Anda Lusi Yustika\n",
      "Nama saya adalah  Lusi Yustika\n",
      "Luas persegi panjang adalah  50\n",
      "Luas persegi panjang adalah  5000\n"
     ]
    }
   ],
   "source": [
    "#Lusi Yustika Rachman\n",
    "#Membuat Fungsi \n",
    "\n",
    "#Fungsi pertama non parameter\n",
    "def perkenalan():\n",
    "    nama = input(\"Masukan Nama Anda \")\n",
    "    print (\"Nama saya adalah \", nama)\n",
    "#Fungsi kedua dengan parameter\n",
    "def luas_persegipanjang(panjang, lebar):\n",
    "    luas = panjang * lebar\n",
    "    print(\"Luas persegi panjang adalah \", luas)\n",
    "    \n",
    "#Panggil Fungsi parameter\n",
    "perkenalan()\n",
    "luas_persegipanjang(5,10)\n",
    "luas_persegipanjang(100,50)"
   ]
  },
  {
   "cell_type": "code",
   "execution_count": 5,
   "metadata": {},
   "outputs": [
    {
     "name": "stdout",
     "output_type": "stream",
     "text": [
      "p =8\n",
      "l =9\n",
      "t =10\n",
      "Luas persegi panjang adalah 72\n",
      "Volume balok adalah 720\n"
     ]
    }
   ],
   "source": [
    "#Lusi Yustika Rachman\n",
    "#Fungsi return\n",
    "\n",
    "p = int (input(\"p =\"))\n",
    "l = int (input(\"l =\"))\n",
    "t = int (input(\"t =\"))\n",
    "\n",
    "def luas_pp () :\n",
    "    luas = p * l\n",
    "    return luas\n",
    "def volume_balok () :\n",
    "    volume = luas_pp() * t\n",
    "    return volume\n",
    "print (\"Luas persegi panjang adalah\", luas_pp())\n",
    "print (\"Volume balok adalah\", volume_balok())"
   ]
  },
  {
   "cell_type": "code",
   "execution_count": 7,
   "metadata": {},
   "outputs": [
    {
     "name": "stdout",
     "output_type": "stream",
     "text": [
      "Masukan angka ke 1 = 12\n",
      "Masukan angka ke 2 = 10\n",
      "Apakah angka ke 1 sama dengan angka ke 2?  False\n",
      "Apakah angka ke 1 lebih besar dari angka ke 2?  True\n"
     ]
    }
   ],
   "source": [
    "#Lusi Yustika Rachman\n",
    "#Membuat fungsi\n",
    "\n",
    "#Input\n",
    "angka1 = int(input(\"Masukan angka ke 1 = \"))\n",
    "angka2 = int (input(\"Masukan angka ke 2 = \"))\n",
    "\n",
    "#Fungsi 1\n",
    "def sama_dengan():\n",
    "    logika1 = angka1 == angka2\n",
    "    print (\"Apakah angka ke 1 sama dengan angka ke 2? \", logika1)\n",
    "    \n",
    "#Fungsi 2\n",
    "def lebih_besar():\n",
    "    logika2 = angka1 > angka2\n",
    "    print (\"Apakah angka ke 1 lebih besar dari angka ke 2? \", logika2)\n",
    "    \n",
    "#Pemanggilan Fungsi\n",
    "sama_dengan()\n",
    "lebih_besar()"
   ]
  },
  {
   "cell_type": "code",
   "execution_count": null,
   "metadata": {},
   "outputs": [],
   "source": []
  }
 ],
 "metadata": {
  "kernelspec": {
   "display_name": "Python 3",
   "language": "python",
   "name": "python3"
  },
  "language_info": {
   "codemirror_mode": {
    "name": "ipython",
    "version": 3
   },
   "file_extension": ".py",
   "mimetype": "text/x-python",
   "name": "python",
   "nbconvert_exporter": "python",
   "pygments_lexer": "ipython3",
   "version": "3.8.3"
  }
 },
 "nbformat": 4,
 "nbformat_minor": 4
}
