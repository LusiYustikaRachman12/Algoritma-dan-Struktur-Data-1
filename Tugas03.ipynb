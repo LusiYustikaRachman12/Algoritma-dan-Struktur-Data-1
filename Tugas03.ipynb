{
 "cells": [
  {
   "cell_type": "code",
   "execution_count": 1,
   "metadata": {},
   "outputs": [
    {
     "name": "stdout",
     "output_type": "stream",
     "text": [
      "tinggi badan lusi adalah 150\n"
     ]
    },
    {
     "ename": "NameError",
     "evalue": "name 'var' is not defined",
     "output_type": "error",
     "traceback": [
      "\u001b[1;31m---------------------------------------------------------------------------\u001b[0m",
      "\u001b[1;31mNameError\u001b[0m                                 Traceback (most recent call last)",
      "\u001b[1;32m<ipython-input-1-99c281d7ede0>\u001b[0m in \u001b[0;36m<module>\u001b[1;34m\u001b[0m\n\u001b[0;32m      5\u001b[0m \u001b[0mprint\u001b[0m \u001b[1;33m(\u001b[0m\u001b[1;34m\"tinggi badan lusi adalah\"\u001b[0m\u001b[1;33m,\u001b[0m\u001b[0mtinggi_badan\u001b[0m\u001b[1;33m)\u001b[0m\u001b[1;33m\u001b[0m\u001b[1;33m\u001b[0m\u001b[0m\n\u001b[0;32m      6\u001b[0m \u001b[1;33m\u001b[0m\u001b[0m\n\u001b[1;32m----> 7\u001b[1;33m \u001b[1;32mdel\u001b[0m \u001b[1;33m(\u001b[0m\u001b[0mvar\u001b[0m\u001b[1;33m)\u001b[0m\u001b[1;33m\u001b[0m\u001b[1;33m\u001b[0m\u001b[0m\n\u001b[0m\u001b[0;32m      8\u001b[0m \u001b[0mprint\u001b[0m \u001b[1;33m(\u001b[0m\u001b[0mvar\u001b[0m\u001b[1;33m)\u001b[0m\u001b[1;33m\u001b[0m\u001b[1;33m\u001b[0m\u001b[0m\n",
      "\u001b[1;31mNameError\u001b[0m: name 'var' is not defined"
     ]
    }
   ],
   "source": [
    "#nama lusi yustika rachman\n",
    "#menghapus variabel dan menampilkannya lagi\n",
    "\n",
    "tinggi_badan = 150 \n",
    "print (\"tinggi badan lusi adalah\",tinggi_badan)\n",
    "\n",
    "del (var)\n",
    "print (var)"
   ]
  },
  {
   "cell_type": "code",
   "execution_count": 2,
   "metadata": {},
   "outputs": [
    {
     "name": "stdout",
     "output_type": "stream",
     "text": [
      "keliling lingkaran sama dengan 314\n"
     ]
    }
   ],
   "source": [
    "#nama lusi yustika rachman\n",
    "#menghitung keliling lingkaran\n",
    "\n",
    "r = 50\n",
    "phi = 3.14\n",
    "kel = 2*phi*r\n",
    "print (\"keliling lingkaran sama dengan 314\")"
   ]
  },
  {
   "cell_type": "code",
   "execution_count": 3,
   "metadata": {},
   "outputs": [
    {
     "name": "stdout",
     "output_type": "stream",
     "text": [
      "True\n",
      "False\n"
     ]
    }
   ],
   "source": [
    "#nama lusi yustika rachman\n",
    "#perbandingan tipe data\n",
    "\n",
    "print (12>10)\n",
    "print (10<7)"
   ]
  },
  {
   "cell_type": "code",
   "execution_count": 4,
   "metadata": {},
   "outputs": [
    {
     "name": "stdout",
     "output_type": "stream",
     "text": [
      "64.0\n",
      "0b1000000\n",
      "0x40\n"
     ]
    }
   ],
   "source": [
    "#nama lusi yustika r\n",
    "#konversi tipe data\n",
    "\n",
    "a = 64\n",
    "print (float (a))\n",
    "print (bin (a))\n",
    "print (hex (a))"
   ]
  },
  {
   "cell_type": "code",
   "execution_count": 5,
   "metadata": {},
   "outputs": [
    {
     "name": "stdout",
     "output_type": "stream",
     "text": [
      "Biodata Mahasiswa\n",
      "Nama :  Lusi yustika rachman\n",
      "NIM :  20090104           \n",
      "    \n",
      "Dia mahasiswa semester 1 yang berprestasi, karena memiliki IPK sebesar 4.0\n"
     ]
    },
    {
     "ename": "NameError",
     "evalue": "name 'ipk' is not defined",
     "output_type": "error",
     "traceback": [
      "\u001b[1;31m---------------------------------------------------------------------------\u001b[0m",
      "\u001b[1;31mNameError\u001b[0m                                 Traceback (most recent call last)",
      "\u001b[1;32m<ipython-input-5-7727e9f8460f>\u001b[0m in \u001b[0;36m<module>\u001b[1;34m\u001b[0m\n\u001b[0;32m     14\u001b[0m \u001b[1;33m\u001b[0m\u001b[0m\n\u001b[0;32m     15\u001b[0m \u001b[1;32mdel\u001b[0m \u001b[1;33m(\u001b[0m\u001b[0mipk\u001b[0m\u001b[1;33m)\u001b[0m\u001b[1;33m\u001b[0m\u001b[1;33m\u001b[0m\u001b[0m\n\u001b[1;32m---> 16\u001b[1;33m \u001b[0mprint\u001b[0m \u001b[1;33m(\u001b[0m\u001b[0mipk\u001b[0m\u001b[1;33m)\u001b[0m\u001b[1;33m\u001b[0m\u001b[1;33m\u001b[0m\u001b[0m\n\u001b[0m",
      "\u001b[1;31mNameError\u001b[0m: name 'ipk' is not defined"
     ]
    }
   ],
   "source": [
    "#nama lusi yustika rachman\n",
    "#Mencetak Biodata Mahasiswa\n",
    "\n",
    "print (\"Biodata Mahasiswa\")\n",
    "nama = \"Lusi yustika rachman\"     #variable : nama #tipe_data : string\n",
    "nim = \"\"\"20090104           \n",
    "    \"\"\"                     #variable : nim #tipe_data : string\n",
    "semester = 1                #variable : semester #tipe_data : integer\n",
    "ipk = 4.00                  #variable : ipk #tipe_data : float\n",
    "\n",
    "print (\"Nama : \", nama)\n",
    "print (\"NIM : \", nim)\n",
    "print (\"Dia mahasiswa semester\", semester, \"yang berprestasi, karena memiliki IPK sebesar\", ipk)\n",
    "\n",
    "del (ipk)\n",
    "print (ipk)"
   ]
  },
  {
   "cell_type": "code",
   "execution_count": null,
   "metadata": {},
   "outputs": [],
   "source": []
  }
 ],
 "metadata": {
  "kernelspec": {
   "display_name": "Python 3",
   "language": "python",
   "name": "python3"
  },
  "language_info": {
   "codemirror_mode": {
    "name": "ipython",
    "version": 3
   },
   "file_extension": ".py",
   "mimetype": "text/x-python",
   "name": "python",
   "nbconvert_exporter": "python",
   "pygments_lexer": "ipython3",
   "version": "3.8.3"
  }
 },
 "nbformat": 4,
 "nbformat_minor": 4
}
